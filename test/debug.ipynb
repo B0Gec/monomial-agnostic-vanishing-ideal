{
 "cells": [
  {
   "cell_type": "code",
   "execution_count": 9,
   "id": "aea71d05",
   "metadata": {},
   "outputs": [
    {
     "name": "stdout",
     "output_type": "stream",
     "text": [
      "The autoreload extension is already loaded. To reload it, use:\n",
      "  %reload_ext autoreload\n"
     ]
    }
   ],
   "source": [
    "%load_ext autoreload\n",
    "%autoreload 2\n",
    "\n",
    "import sys\n",
    "sys.path.append('..')\n",
    "\n",
    "import numpy as np\n",
    "import matplotlib.pyplot as plt\n",
    "\n",
    "from mavi.numpy.vanishing_ideal import VanishingIdeal\n",
    "from sympy.abc import x, y"
   ]
  },
  {
   "cell_type": "code",
   "execution_count": 10,
   "id": "dd9ac9b5",
   "metadata": {},
   "outputs": [],
   "source": [
    "Y = np.sin(2*np.pi*np.arange(0, 100)/100)"
   ]
  },
  {
   "cell_type": "markdown",
   "id": "115a5340",
   "metadata": {},
   "source": [
    "# 問題\n",
    "二つの基底はほとんどの場合それぞれx軸, y軸に平行なものが出てくるが，希にそうでないものが出てくる．"
   ]
  },
  {
   "cell_type": "code",
   "execution_count": 31,
   "id": "69a59a37",
   "metadata": {},
   "outputs": [
    {
     "name": "stdout",
     "output_type": "stream",
     "text": [
      "i = 8, y = 0.4817536741017153\n",
      "g0 = -0.894427190552702*x - 0.447213595276351*y + 1.10987398318532\n",
      "g1 = 0.447213595276351*x - 0.894427190552702*y - 0.0163200100111118\n"
     ]
    },
    {
     "data": {
      "image/png": "[encoded data removed]",
      "text/plain": [
       "<Figure size 432x288 with 1 Axes>"
      ]
     },
     "metadata": {
      "needs_background": "light"
     },
     "output_type": "display_data"
    },
    {
     "name": "stdout",
     "output_type": "stream",
     "text": [
      "i = 68, y = -0.9048270524660198\n",
      "g0 = -0.707106780832994*x + 0.707106780832994*y + 1.34691612511285\n",
      "g1 = -0.707106780832994*x - 0.707106780832994*y + 0.0672974365531402\n"
     ]
    },
    {
     "data": {
      "image/png": "[encoded data removed]",
      "text/plain": [
       "<Figure size 432x288 with 1 Axes>"
      ]
     },
     "metadata": {
      "needs_background": "light"
     },
     "output_type": "display_data"
    }
   ],
   "source": [
    "method = 'grad'\n",
    "eps = 1e-6\n",
    "chechpoints = [8, 68]\n",
    "\n",
    "for i, Y_ in enumerate(Y):\n",
    "    X = np.array([[1.0, Y_]])\n",
    "    \n",
    "    if i in chechpoints:\n",
    "        vi = VanishingIdeal()\n",
    "        vi.fit(X, eps, method=method)  # grad normalization\n",
    "        Gs = vi.evaluate(np.array([[x,y]]), target='vanishing')\n",
    "\n",
    "        print(f'i = {i}, y = {Y_}')\n",
    "        for j, g in enumerate(Gs[0]):\n",
    "            print(f'g{j} = {g}')\n",
    "        \n",
    "        vi.plot(X, splitshow=False)\n",
    "        plt.show()"
   ]
  },
  {
   "cell_type": "code",
   "execution_count": 13,
   "id": "cfde47ba",
   "metadata": {},
   "outputs": [
    {
     "name": "stdout",
     "output_type": "stream",
     "text": [
      "i = 8, y = 0.4817536741017153\n",
      "g0 = 1.0*x - 1.0\n",
      "g1 = 1.0*y - 0.481753674101715\n"
     ]
    },
    {
     "data": {
      "image/png": "[encoded data removed]",
      "text/plain": [
       "<Figure size 432x288 with 1 Axes>"
      ]
     },
     "metadata": {
      "needs_background": "light"
     },
     "output_type": "display_data"
    },
    {
     "name": "stdout",
     "output_type": "stream",
     "text": [
      "i = 68, y = -0.9048270524660198\n",
      "g0 = 1.0*x - 1.0\n",
      "g1 = 1.0*y + 0.90482705246602\n"
     ]
    },
    {
     "data": {
      "image/png": "[encoded data removed]",
      "text/plain": [
       "<Figure size 432x288 with 1 Axes>"
      ]
     },
     "metadata": {
      "needs_background": "light"
     },
     "output_type": "display_data"
    }
   ],
   "source": [
    "method = 'vca'\n",
    "eps = 1e-6\n",
    "chechpoints = [8, 68]\n",
    "\n",
    "for i, Y_ in enumerate(Y):\n",
    "    X = np.array([[1.0, Y_]])\n",
    "    \n",
    "    if i in chechpoints:\n",
    "        vi = VanishingIdeal()\n",
    "        vi.fit(X, eps, method=method)  # grad normalization\n",
    "        Gs = vi.evaluate(np.array([[x,y]]), target='vanishing')\n",
    "\n",
    "        print(f'i = {i}, y = {Y_}')\n",
    "        for j, g in enumerate(Gs[0]):\n",
    "            print(f'g{j} = {g}')\n",
    "        \n",
    "        vi.plot(X, splitshow=False)\n",
    "        plt.show()"
   ]
  },
  {
   "cell_type": "markdown",
   "id": "f3ec4c18",
   "metadata": {},
   "source": [
    "# 観測\n",
    "```matrixfact_gep```の中で```c = np.mean(C, axis=0)```をプリント．```c```の全ての要素が非ゼロの時に問題が発生していることがわかる．"
   ]
  },
  {
   "cell_type": "code",
   "execution_count": 21,
   "id": "350624c6",
   "metadata": {},
   "outputs": [
    {
     "name": "stdout",
     "output_type": "stream",
     "text": [
      "i= 0: [0. 0.]\n",
      "i= 1: [0. 0.]\n",
      "i= 2: [0. 0.]\n",
      "i= 3: [0.00000000e+00 2.77555756e-17]\n",
      "i= 4: [0. 0.]\n",
      "i= 5: [0. 0.]\n",
      "i= 6: [0.00000000e+00 5.55111512e-17]\n",
      "i= 7: [0. 0.]\n",
      "i= 8: [1.11022302e-16 5.55111512e-17]\n",
      "i= 9: [0. 0.]\n",
      "i=10: [0. 0.]\n",
      "i=11: [0. 0.]\n",
      "i=12: [0. 0.]\n",
      "i=13: [ 0.00000000e+00 -1.11022302e-16]\n",
      "i=14: [0. 0.]\n",
      "i=15: [1.11022302e-16 0.00000000e+00]\n",
      "i=16: [0.00000000e+00 1.11022302e-16]\n",
      "i=17: [ 0.00000000e+00 -1.11022302e-16]\n",
      "i=18: [0. 0.]\n",
      "i=19: [ 0.00000000e+00 -1.11022302e-16]\n",
      "i=20: [0.00000000e+00 1.11022302e-16]\n",
      "i=21: [0.00000000e+00 1.11022302e-16]\n",
      "i=22: [ 0.00000000e+00 -1.11022302e-16]\n",
      "i=23: [1.11022302e-16 0.00000000e+00]\n",
      "i=24: [0. 0.]\n",
      "i=25: [0. 0.]\n",
      "i=26: [0. 0.]\n",
      "i=27: [ 0.00000000e+00 -1.11022302e-16]\n",
      "i=28: [1.11022302e-16 0.00000000e+00]\n",
      "i=29: [0.00000000e+00 1.11022302e-16]\n",
      "i=30: [0.00000000e+00 1.11022302e-16]\n",
      "i=31: [ 0.00000000e+00 -1.11022302e-16]\n",
      "i=32: [0. 0.]\n",
      "i=33: [0. 0.]\n",
      "i=34: [0. 0.]\n",
      "i=35: [1.11022302e-16 0.00000000e+00]\n",
      "i=36: [1.11022302e-16 0.00000000e+00]\n",
      "i=37: [ 0.00000000e+00 -1.11022302e-16]\n",
      "i=38: [0.00000000e+00 1.11022302e-16]\n",
      "i=39: [0. 0.]\n",
      "i=40: [0. 0.]\n",
      "i=41: [0. 0.]\n",
      "i=42: [1.11022302e-16 0.00000000e+00]\n",
      "i=43: [0. 0.]\n",
      "i=44: [0. 0.]\n",
      "i=45: [0. 0.]\n",
      "i=46: [ 0.00000000e+00 -2.77555756e-17]\n",
      "i=47: [0. 0.]\n",
      "i=48: [0. 0.]\n",
      "i=49: [0. 0.]\n",
      "i=50: [0. 0.]\n",
      "i=51: [0. 0.]\n",
      "i=52: [0. 0.]\n",
      "i=53: [0.00000000e+00 2.77555756e-17]\n",
      "i=54: [0. 0.]\n",
      "i=55: [0. 0.]\n",
      "i=56: [ 0.00000000e+00 -5.55111512e-17]\n",
      "i=57: [0.00000000e+00 5.55111512e-17]\n",
      "i=58: [0.00000000e+00 5.55111512e-17]\n",
      "i=59: [0. 0.]\n",
      "i=60: [0. 0.]\n",
      "i=61: [0. 0.]\n",
      "i=62: [0. 0.]\n",
      "i=63: [0.00000000e+00 1.11022302e-16]\n",
      "i=64: [0. 0.]\n",
      "i=65: [1.11022302e-16 0.00000000e+00]\n",
      "i=66: [0. 0.]\n",
      "i=67: [0. 0.]\n",
      "i=68: [ 1.11022302e-16 -1.11022302e-16]\n",
      "i=69: [0.00000000e+00 1.11022302e-16]\n",
      "i=70: [ 0.00000000e+00 -1.11022302e-16]\n",
      "i=71: [ 0.00000000e+00 -1.11022302e-16]\n",
      "i=72: [1.11022302e-16 0.00000000e+00]\n",
      "i=73: [1.11022302e-16 0.00000000e+00]\n",
      "i=74: [0. 0.]\n",
      "i=75: [0. 0.]\n",
      "i=76: [0. 0.]\n",
      "i=77: [0.00000000e+00 1.11022302e-16]\n",
      "i=78: [1.11022302e-16 0.00000000e+00]\n",
      "i=79: [ 0.00000000e+00 -1.11022302e-16]\n",
      "i=80: [ 0.00000000e+00 -1.11022302e-16]\n",
      "i=81: [0. 0.]\n",
      "i=82: [0. 0.]\n",
      "i=83: [0. 0.]\n",
      "i=84: [ 0.00000000e+00 -1.11022302e-16]\n",
      "i=85: [1.11022302e-16 0.00000000e+00]\n",
      "i=86: [0. 0.]\n",
      "i=87: [0.00000000e+00 1.11022302e-16]\n",
      "i=88: [0.00000000e+00 1.11022302e-16]\n",
      "i=89: [0. 0.]\n",
      "i=90: [0. 0.]\n",
      "i=91: [0. 0.]\n",
      "i=92: [0.00000000e+00 5.55111512e-17]\n",
      "i=93: [0. 0.]\n",
      "i=94: [0. 0.]\n",
      "i=95: [0. 0.]\n",
      "i=96: [0. 0.]\n",
      "i=97: [0. 0.]\n",
      "i=98: [0. 0.]\n",
      "i=99: [0. 0.]\n"
     ]
    }
   ],
   "source": [
    "method = 'grad'\n",
    "eps = 1e-6\n",
    "chechpoints = list(range(100))\n",
    "\n",
    "# print(f'In matrixfact_gep call:\\n\\t np.mean(C, axis=0)')\n",
    "\n",
    "for i, Y_ in enumerate(Y):\n",
    "    print(f'i={i:2d}: ', end='')\n",
    "    X = np.array([[1.0, Y_]])\n",
    "    vi = VanishingIdeal()\n",
    "    vi.fit(X, eps, method=method)  # grad normalization"
   ]
  },
  {
   "cell_type": "markdown",
   "id": "98514ee9",
   "metadata": {},
   "source": [
    "# 解決法\n",
    "とりあえず，```C = C - np.mean(C, axis=0)```とすれば解決"
   ]
  },
  {
   "cell_type": "code",
   "execution_count": 26,
   "id": "91f81235",
   "metadata": {},
   "outputs": [
    {
     "name": "stdout",
     "output_type": "stream",
     "text": [
      "c = [1.11022302e-16 5.55111512e-17] -> [0. 0.]\n",
      "i = 8, y = 0.4817536741017153\n",
      "g0 = 0.9999999995*x - 0.9999999995\n",
      "g1 = 0.9999999995*y - 0.481753673860838\n"
     ]
    },
    {
     "data": {
      "image/png": "[encoded data removed]",
      "text/plain": [
       "<Figure size 432x288 with 1 Axes>"
      ]
     },
     "metadata": {
      "needs_background": "light"
     },
     "output_type": "display_data"
    },
    {
     "name": "stdout",
     "output_type": "stream",
     "text": [
      "c = [ 1.11022302e-16 -1.11022302e-16] -> [0. 0.]\n",
      "i = 68, y = -0.9048270524660198\n",
      "g0 = 0.9999999995*x - 0.9999999995\n",
      "g1 = 0.9999999995*y + 0.904827052013606\n"
     ]
    },
    {
     "data": {
      "image/png": "[encoded data removed]",
      "text/plain": [
       "<Figure size 432x288 with 1 Axes>"
      ]
     },
     "metadata": {
      "needs_background": "light"
     },
     "output_type": "display_data"
    }
   ],
   "source": [
    "method = 'grad'\n",
    "eps = 1e-6\n",
    "chechpoints = [8, 68]\n",
    "\n",
    "for i, Y_ in enumerate(Y):\n",
    "    X = np.array([[1.0, Y_]])\n",
    "    \n",
    "    if i in chechpoints:\n",
    "        vi = VanishingIdeal()\n",
    "        vi.fit(X, eps, method=method)  # grad normalization\n",
    "        Gs = vi.evaluate(np.array([[x,y]]), target='vanishing')\n",
    "\n",
    "        print(f'i = {i}, y = {Y_}')\n",
    "        for j, g in enumerate(Gs[0]):\n",
    "            print(f'g{j} = {g}')\n",
    "        \n",
    "        vi.plot(X, splitshow=False)\n",
    "        plt.show()"
   ]
  },
  {
   "cell_type": "markdown",
   "id": "740b210c",
   "metadata": {},
   "source": [
    "# 平均をゼロにするのは意外と難しい"
   ]
  },
  {
   "cell_type": "code",
   "execution_count": 114,
   "id": "0647bc29",
   "metadata": {},
   "outputs": [
    {
     "name": "stdout",
     "output_type": "stream",
     "text": [
      "mean:  [-5.55111512e-17  2.77555756e-17]\n"
     ]
    }
   ],
   "source": [
    "B = A - np.mean(A, axis=0)\n",
    "print('mean: ', np.mean(B, axis=0))"
   ]
  },
  {
   "cell_type": "code",
   "execution_count": 115,
   "id": "a969380d",
   "metadata": {},
   "outputs": [
    {
     "name": "stdout",
     "output_type": "stream",
     "text": [
      "mean:  [-5.55111512e-17  2.77555756e-17]\n"
     ]
    }
   ],
   "source": [
    "B = np.eye(4) @ A - np.ones((4,4))/A.shape[0] @ A\n",
    "print('mean: ', np.mean(B, axis=0))"
   ]
  },
  {
   "cell_type": "code",
   "execution_count": 116,
   "id": "821041d7",
   "metadata": {},
   "outputs": [
    {
     "name": "stdout",
     "output_type": "stream",
     "text": [
      "mean:  [0.0000000e+00 6.9388939e-18]\n"
     ]
    }
   ],
   "source": [
    "P = (np.eye(4) - np.ones((4,4))/A.shape[0])\n",
    "B = P @ A\n",
    "print('mean: ', np.mean(B, axis=0))"
   ]
  },
  {
   "cell_type": "code",
   "execution_count": 118,
   "id": "fc301e83",
   "metadata": {},
   "outputs": [
    {
     "ename": "ValueError",
     "evalue": "matmul: Input operand 1 has a mismatch in its core dimension 0, with gufunc signature (n?,k),(k,m?)->(n?,m?) (size 3 is different from 1)",
     "output_type": "error",
     "traceback": [
      "\u001b[0;31m---------------------------------------------------------------------------\u001b[0m",
      "\u001b[0;31mValueError\u001b[0m                                Traceback (most recent call last)",
      "\u001b[0;32m<ipython-input-118-eee76ca77c82>\u001b[0m in \u001b[0;36m<module>\u001b[0;34m\u001b[0m\n\u001b[1;32m      8\u001b[0m     \u001b[0;32mif\u001b[0m \u001b[0mi\u001b[0m \u001b[0;32min\u001b[0m \u001b[0mchechpoints\u001b[0m\u001b[0;34m:\u001b[0m\u001b[0;34m\u001b[0m\u001b[0;34m\u001b[0m\u001b[0m\n\u001b[1;32m      9\u001b[0m         \u001b[0mvi\u001b[0m \u001b[0;34m=\u001b[0m \u001b[0mVanishingIdeal\u001b[0m\u001b[0;34m(\u001b[0m\u001b[0;34m)\u001b[0m\u001b[0;34m\u001b[0m\u001b[0;34m\u001b[0m\u001b[0m\n\u001b[0;32m---> 10\u001b[0;31m         \u001b[0mvi\u001b[0m\u001b[0;34m.\u001b[0m\u001b[0mfit\u001b[0m\u001b[0;34m(\u001b[0m\u001b[0mX\u001b[0m\u001b[0;34m,\u001b[0m \u001b[0meps\u001b[0m\u001b[0;34m,\u001b[0m \u001b[0mmethod\u001b[0m\u001b[0;34m=\u001b[0m\u001b[0mmethod\u001b[0m\u001b[0;34m)\u001b[0m  \u001b[0;31m# grad normalization\u001b[0m\u001b[0;34m\u001b[0m\u001b[0;34m\u001b[0m\u001b[0m\n\u001b[0m\u001b[1;32m     11\u001b[0m         \u001b[0mGs\u001b[0m \u001b[0;34m=\u001b[0m \u001b[0mvi\u001b[0m\u001b[0;34m.\u001b[0m\u001b[0mevaluate\u001b[0m\u001b[0;34m(\u001b[0m\u001b[0mnp\u001b[0m\u001b[0;34m.\u001b[0m\u001b[0marray\u001b[0m\u001b[0;34m(\u001b[0m\u001b[0;34m[\u001b[0m\u001b[0;34m[\u001b[0m\u001b[0mx\u001b[0m\u001b[0;34m,\u001b[0m\u001b[0my\u001b[0m\u001b[0;34m]\u001b[0m\u001b[0;34m]\u001b[0m\u001b[0;34m)\u001b[0m\u001b[0;34m,\u001b[0m \u001b[0mtarget\u001b[0m\u001b[0;34m=\u001b[0m\u001b[0;34m'vanishing'\u001b[0m\u001b[0;34m)\u001b[0m\u001b[0;34m\u001b[0m\u001b[0;34m\u001b[0m\u001b[0m\n\u001b[1;32m     12\u001b[0m \u001b[0;34m\u001b[0m\u001b[0m\n",
      "\u001b[0;32m~/Dropbox/RESEARCH/Experiments/javi/mavi/mavi/numpy/vanishing_ideal.py\u001b[0m in \u001b[0;36mfit\u001b[0;34m(self, X, eps, method, max_degree, gamma, **kwargs)\u001b[0m\n\u001b[1;32m     66\u001b[0m             \u001b[0mcands\u001b[0m \u001b[0;34m=\u001b[0m \u001b[0mself\u001b[0m\u001b[0;34m.\u001b[0m\u001b[0m_init_candidates\u001b[0m\u001b[0;34m(\u001b[0m\u001b[0mX\u001b[0m\u001b[0;34m,\u001b[0m \u001b[0mmethod\u001b[0m\u001b[0;34m,\u001b[0m \u001b[0mintermidiate\u001b[0m\u001b[0;34m)\u001b[0m \u001b[0;32mif\u001b[0m \u001b[0mt\u001b[0m \u001b[0;34m==\u001b[0m \u001b[0;36m1\u001b[0m \u001b[0;32melse\u001b[0m \u001b[0mself\u001b[0m\u001b[0;34m.\u001b[0m\u001b[0m_candidates\u001b[0m\u001b[0;34m(\u001b[0m\u001b[0mintermidiate_1\u001b[0m\u001b[0;34m,\u001b[0m \u001b[0mintermidiate_t\u001b[0m\u001b[0;34m,\u001b[0m \u001b[0mmethod\u001b[0m\u001b[0;34m,\u001b[0m \u001b[0mX\u001b[0m\u001b[0;34m)\u001b[0m\u001b[0;34m\u001b[0m\u001b[0;34m\u001b[0m\u001b[0m\n\u001b[1;32m     67\u001b[0m             \u001b[0;31m# print('border', [c.as_expr() for c in cands.Fsymb])\u001b[0m\u001b[0;34m\u001b[0m\u001b[0;34m\u001b[0m\u001b[0;34m\u001b[0m\u001b[0m\n\u001b[0;32m---> 68\u001b[0;31m             \u001b[0mbasist\u001b[0m\u001b[0;34m,\u001b[0m \u001b[0mintermidiate_t\u001b[0m \u001b[0;34m=\u001b[0m \u001b[0mself\u001b[0m\u001b[0;34m.\u001b[0m\u001b[0m_construct_basis_t\u001b[0m\u001b[0;34m(\u001b[0m\u001b[0mcands\u001b[0m\u001b[0;34m,\u001b[0m \u001b[0mintermidiate\u001b[0m\u001b[0;34m,\u001b[0m \u001b[0meps\u001b[0m\u001b[0;34m,\u001b[0m \u001b[0mmethod\u001b[0m\u001b[0;34m,\u001b[0m \u001b[0mgamma\u001b[0m\u001b[0;34m=\u001b[0m\u001b[0mgamma\u001b[0m\u001b[0;34m)\u001b[0m\u001b[0;34m\u001b[0m\u001b[0;34m\u001b[0m\u001b[0m\n\u001b[0m\u001b[1;32m     69\u001b[0m \u001b[0;34m\u001b[0m\u001b[0m\n\u001b[1;32m     70\u001b[0m             \u001b[0mbasis\u001b[0m\u001b[0;34m.\u001b[0m\u001b[0mappend\u001b[0m\u001b[0;34m(\u001b[0m\u001b[0mbasist\u001b[0m\u001b[0;34m)\u001b[0m\u001b[0;34m\u001b[0m\u001b[0;34m\u001b[0m\u001b[0m\n",
      "\u001b[0;32m~/Dropbox/RESEARCH/Experiments/javi/mavi/mavi/numpy/vanishing_ideal.py\u001b[0m in \u001b[0;36m_construct_basis_t\u001b[0;34m(self, cands, intermidiate, eps, method, gamma)\u001b[0m\n\u001b[1;32m    118\u001b[0m     \u001b[0;32mdef\u001b[0m \u001b[0m_construct_basis_t\u001b[0m\u001b[0;34m(\u001b[0m\u001b[0mself\u001b[0m\u001b[0;34m,\u001b[0m \u001b[0mcands\u001b[0m\u001b[0;34m,\u001b[0m \u001b[0mintermidiate\u001b[0m\u001b[0;34m,\u001b[0m \u001b[0meps\u001b[0m\u001b[0;34m,\u001b[0m \u001b[0mmethod\u001b[0m\u001b[0;34m,\u001b[0m \u001b[0mgamma\u001b[0m\u001b[0;34m=\u001b[0m\u001b[0;36m1e-9\u001b[0m\u001b[0;34m)\u001b[0m\u001b[0;34m:\u001b[0m\u001b[0;34m\u001b[0m\u001b[0;34m\u001b[0m\u001b[0m\n\u001b[1;32m    119\u001b[0m         \u001b[0;32mif\u001b[0m \u001b[0mmethod\u001b[0m \u001b[0;34m==\u001b[0m \u001b[0;34m\"grad\"\u001b[0m\u001b[0;34m:\u001b[0m\u001b[0;34m\u001b[0m\u001b[0;34m\u001b[0m\u001b[0m\n\u001b[0;32m--> 120\u001b[0;31m             \u001b[0;32mreturn\u001b[0m \u001b[0m_construct_basis_t_grad\u001b[0m\u001b[0;34m(\u001b[0m\u001b[0mcands\u001b[0m\u001b[0;34m,\u001b[0m \u001b[0mintermidiate\u001b[0m\u001b[0;34m,\u001b[0m \u001b[0meps\u001b[0m\u001b[0;34m,\u001b[0m \u001b[0mgamma\u001b[0m\u001b[0;34m=\u001b[0m\u001b[0mgamma\u001b[0m\u001b[0;34m)\u001b[0m\u001b[0;34m\u001b[0m\u001b[0;34m\u001b[0m\u001b[0m\n\u001b[0m\u001b[1;32m    121\u001b[0m         \u001b[0;32melif\u001b[0m \u001b[0mmethod\u001b[0m \u001b[0;34m==\u001b[0m \u001b[0;34m\"vca\"\u001b[0m\u001b[0;34m:\u001b[0m\u001b[0;34m\u001b[0m\u001b[0;34m\u001b[0m\u001b[0m\n\u001b[1;32m    122\u001b[0m             \u001b[0;32mreturn\u001b[0m \u001b[0m_construct_basis_t_vca\u001b[0m\u001b[0;34m(\u001b[0m\u001b[0mcands\u001b[0m\u001b[0;34m,\u001b[0m \u001b[0mintermidiate\u001b[0m\u001b[0;34m,\u001b[0m \u001b[0meps\u001b[0m\u001b[0;34m)\u001b[0m\u001b[0;34m\u001b[0m\u001b[0;34m\u001b[0m\u001b[0m\n",
      "\u001b[0;32m~/Dropbox/RESEARCH/Experiments/javi/mavi/mavi/numpy/basis_construction/bcgrad.py\u001b[0m in \u001b[0;36m_construct_basis_t_grad\u001b[0;34m(cands, intermidiate, eps, gamma)\u001b[0m\n\u001b[1;32m     47\u001b[0m     \u001b[0mFX\u001b[0m\u001b[0;34m,\u001b[0m \u001b[0mdFX\u001b[0m \u001b[0;34m=\u001b[0m \u001b[0mintermidiate\u001b[0m\u001b[0;34m.\u001b[0m\u001b[0mFX\u001b[0m\u001b[0;34m,\u001b[0m \u001b[0mintermidiate\u001b[0m\u001b[0;34m.\u001b[0m\u001b[0mdFX\u001b[0m\u001b[0;34m\u001b[0m\u001b[0;34m\u001b[0m\u001b[0m\n\u001b[1;32m     48\u001b[0m \u001b[0;34m\u001b[0m\u001b[0m\n\u001b[0;32m---> 49\u001b[0;31m     \u001b[0mCtX_\u001b[0m\u001b[0;34m,\u001b[0m \u001b[0mR\u001b[0m \u001b[0;34m=\u001b[0m \u001b[0mpres\u001b[0m\u001b[0;34m(\u001b[0m\u001b[0mCtX\u001b[0m\u001b[0;34m,\u001b[0m \u001b[0mFX\u001b[0m\u001b[0;34m)\u001b[0m\u001b[0;34m\u001b[0m\u001b[0;34m\u001b[0m\u001b[0m\n\u001b[0m\u001b[1;32m     50\u001b[0m     \u001b[0mdCtX_\u001b[0m \u001b[0;34m=\u001b[0m \u001b[0mres\u001b[0m\u001b[0;34m(\u001b[0m\u001b[0mdCtX\u001b[0m\u001b[0;34m,\u001b[0m \u001b[0mdFX\u001b[0m\u001b[0;34m,\u001b[0m \u001b[0mR\u001b[0m\u001b[0;34m)\u001b[0m\u001b[0;34m\u001b[0m\u001b[0;34m\u001b[0m\u001b[0m\n\u001b[1;32m     51\u001b[0m \u001b[0;34m\u001b[0m\u001b[0m\n",
      "\u001b[0;32m~/Dropbox/RESEARCH/Experiments/javi/mavi/mavi/numpy/util/util.py\u001b[0m in \u001b[0;36mpres\u001b[0;34m(C, F)\u001b[0m\n\u001b[1;32m     37\u001b[0m     \u001b[0mM\u001b[0m \u001b[0;34m=\u001b[0m \u001b[0mnp\u001b[0m\u001b[0;34m.\u001b[0m\u001b[0meye\u001b[0m\u001b[0;34m(\u001b[0m\u001b[0mnsamples\u001b[0m\u001b[0;34m)\u001b[0m \u001b[0;34m-\u001b[0m \u001b[0mnp\u001b[0m\u001b[0;34m.\u001b[0m\u001b[0mones\u001b[0m\u001b[0;34m(\u001b[0m\u001b[0;34m(\u001b[0m\u001b[0mnsamples\u001b[0m\u001b[0;34m,\u001b[0m\u001b[0mnsamples\u001b[0m\u001b[0;34m)\u001b[0m\u001b[0;34m)\u001b[0m\u001b[0;34m/\u001b[0m\u001b[0mnsamples\u001b[0m\u001b[0;34m\u001b[0m\u001b[0;34m\u001b[0m\u001b[0m\n\u001b[1;32m     38\u001b[0m     \u001b[0mres\u001b[0m \u001b[0;34m=\u001b[0m \u001b[0mM\u001b[0m \u001b[0;34m@\u001b[0m \u001b[0mres\u001b[0m\u001b[0;34m\u001b[0m\u001b[0;34m\u001b[0m\u001b[0m\n\u001b[0;32m---> 39\u001b[0;31m     \u001b[0mresop\u001b[0m \u001b[0;34m=\u001b[0m \u001b[0mM\u001b[0m \u001b[0;34m@\u001b[0m \u001b[0mresop\u001b[0m\u001b[0;34m\u001b[0m\u001b[0;34m\u001b[0m\u001b[0m\n\u001b[0m\u001b[1;32m     40\u001b[0m \u001b[0;34m\u001b[0m\u001b[0m\n\u001b[1;32m     41\u001b[0m     \u001b[0;32mreturn\u001b[0m \u001b[0mres\u001b[0m\u001b[0;34m,\u001b[0m \u001b[0mresop\u001b[0m\u001b[0;34m\u001b[0m\u001b[0;34m\u001b[0m\u001b[0m\n",
      "\u001b[0;31mValueError\u001b[0m: matmul: Input operand 1 has a mismatch in its core dimension 0, with gufunc signature (n?,k),(k,m?)->(n?,m?) (size 3 is different from 1)"
     ]
    }
   ],
   "source": [
    "method = 'grad'\n",
    "eps = 1e-6\n",
    "chechpoints = [8, 68]\n",
    "\n",
    "for i, Y_ in enumerate(Y):\n",
    "    X = np.array([[1.0, Y_]])\n",
    "    \n",
    "    if i in chechpoints:\n",
    "        vi = VanishingIdeal()\n",
    "        vi.fit(X, eps, method=method)  # grad normalization\n",
    "        Gs = vi.evaluate(np.array([[x,y]]), target='vanishing')\n",
    "\n",
    "        print(f'i = {i}, y = {Y_}')\n",
    "        for j, g in enumerate(Gs[0]):\n",
    "            print(f'g{j} = {g}')\n",
    "        \n",
    "        vi.plot(X, splitshow=False)\n",
    "        plt.show()"
   ]
  },
  {
   "cell_type": "code",
   "execution_count": null,
   "id": "00cc5dde",
   "metadata": {},
   "outputs": [],
   "source": []
  }
 ],
 "metadata": {
  "kernelspec": {
   "display_name": "Python 3.8.5 64-bit ('base': conda)",
   "language": "python",
   "name": "python385jvsc74a57bd09043dc5ff2c9feccdad830470c6dc123ef0f4d10e1f8277c420b39ac01546547"
  },
  "language_info": {
   "codemirror_mode": {
    "name": "ipython",
    "version": 3
   },
   "file_extension": ".py",
   "mimetype": "text/x-python",
   "name": "python",
   "nbconvert_exporter": "python",
   "pygments_lexer": "ipython3",
   "version": "3.8.5"
  }
 },
 "nbformat": 4,
 "nbformat_minor": 5
}
