{
 "cells": [
  {
   "cell_type": "code",
   "metadata": {
    "colab": {
     "base_uri": "https://localhost:8080/"
    },
    "id": "uPL1cN43CzFV",
    "outputId": "a3988f69-02e8-4cb4-f412-787d4dcdbef1",
    "ExecuteTime": {
     "end_time": "2024-04-05T15:01:04.712045Z",
     "start_time": "2024-04-05T15:01:04.707152Z"
    }
   },
   "source": "# this is clean version of medata file",
   "outputs": [],
   "execution_count": 12
  },
  {
   "cell_type": "code",
   "metadata": {
    "colab": {
     "base_uri": "https://localhost:8080/"
    },
    "id": "pPR__g6DYALA",
    "outputId": "69f46fd2-d38f-46b6-8fdc-14351c9bf3eb",
    "ExecuteTime": {
     "end_time": "2024-04-05T15:01:05.064102Z",
     "start_time": "2024-04-05T15:01:05.057278Z"
    }
   },
   "source": "# !pip install diophantine",
   "outputs": [],
   "execution_count": 13
  },
  {
   "cell_type": "code",
   "metadata": {
    "id": "bDcIEVwwXoXC",
    "scrolled": true,
    "ExecuteTime": {
     "end_time": "2024-04-05T15:01:05.540813Z",
     "start_time": "2024-04-05T15:01:05.538031Z"
    }
   },
   "source": [
    "import sys\n",
    "sys.path.append('..')\n",
    "\n",
    "import numpy as np\n",
    "import matplotlib.pyplot as plt\n",
    "\n",
    "from mavi.vanishing_ideal import VanishingIdeal"
   ],
   "outputs": [],
   "execution_count": 14
  },
  {
   "cell_type": "code",
   "metadata": {
    "ExecuteTime": {
     "end_time": "2024-04-05T15:01:06.570740Z",
     "start_time": "2024-04-05T15:01:06.014140Z"
    }
   },
   "source": [
    "# import sequences\n",
    "import pandas as pd\n",
    "\n",
    "sys.path.append('../../ProGED_oeis/')\n",
    "import exact_ed as ed\n",
    "\n",
    "seq_id = 'A000004'\n",
    "# seq_id = 'A000008'\n",
    "seq_id = 'A000027'\n",
    "# seq_id = 'A000034'\n",
    "seq_id = 'A000045'\n",
    "# seq_id = 'A000124'\n",
    "# seq_id = 'A000008'\n",
    "\n",
    "n_of_terms_load = 100000\n",
    "n_of_terms_load = 10\n",
    "n_of_terms_load = 40\n",
    "csv_filename = '../../ProGED_oeis/linear_database_newbl.csv'\n",
    "csv = pd.read_csv(csv_filename, low_memory=False, usecols=[seq_id])[:n_of_terms_load]"
   ],
   "outputs": [],
   "execution_count": 15
  },
  {
   "cell_type": "code",
   "metadata": {
    "ExecuteTime": {
     "end_time": "2024-04-05T15:01:07.586284Z",
     "start_time": "2024-04-05T15:01:07.402115Z"
    }
   },
   "source": [
    "seq, coeffs, truth = ed.unpack_seq(seq_id, csv)\n",
    "print(seq[:20])  \n",
    "b, A, sol_ref = ed.dataset(list(seq), d_max=1, max_order=2, library='n')  # or library='lin'. Others are useless (depend on d_max).\n",
    "\n",
    "# eed:  something to compare to.\n",
    "x = ed.diophantine_solve(A, b)\n",
    "\n",
    "# mavi:\n",
    "data = np.concatenate((b, A), axis=1)\n",
    "# print(data[:10, :])\n",
    "# 1/0\n",
    "\n",
    "# an, 1, n, an1, an2, ...\n",
    "mold = [0,      3, 4]\n",
    "data = data[:, mold]\n",
    "data = data.astype('float')\n",
    "plt.plot(data, 'o')"
   ],
   "outputs": [
    {
     "name": "stdout",
     "output_type": "stream",
     "text": [
      "[0, 1, 1, 2, 3, 5, 8, 13, 21, 34, 55, 89, 144, 233, 377, 610, 987, 1597, 2584, 4181]\n"
     ]
    },
    {
     "data": {
      "text/plain": [
       "[<matplotlib.lines.Line2D at 0x7f59ee681d10>,\n",
       " <matplotlib.lines.Line2D at 0x7f59d4ad4350>,\n",
       " <matplotlib.lines.Line2D at 0x7f59d6f77b10>]"
      ]
     },
     "execution_count": 16,
     "metadata": {},
     "output_type": "execute_result"
    },
    {
     "data": {
      "text/plain": [
       "<Figure size 640x480 with 1 Axes>"
      ],
      "image/png": "[encoded data removed]"
     },
     "metadata": {},
     "output_type": "display_data"
    }
   ],
   "execution_count": 16
  },
  {
   "cell_type": "code",
   "metadata": {
    "colab": {
     "base_uri": "https://localhost:8080/"
    },
    "id": "rHCN1hyOYbM2",
    "outputId": "8419e6cf-b4b1-44bc-b319-1cf28dd827c4",
    "ExecuteTime": {
     "end_time": "2024-04-05T15:01:14.310663Z",
     "start_time": "2024-04-05T15:01:14.296390Z"
    }
   },
   "source": [
    "vi = VanishingIdeal()\n",
    "vi.fit(data, 0.01, method=\"grad\", max_degree=2)"
   ],
   "outputs": [
    {
     "data": {
      "text/plain": [
       "<mavi.vanishing_ideal.VanishingIdeal at 0x7f59d7c87dd0>"
      ]
     },
     "execution_count": 17,
     "metadata": {},
     "output_type": "execute_result"
    }
   ],
   "execution_count": 17
  },
  {
   "cell_type": "code",
   "metadata": {
    "id": "mJoryIFHYg9Y",
    "ExecuteTime": {
     "end_time": "2024-04-05T15:02:19.187595Z",
     "start_time": "2024-04-05T15:02:19.176539Z"
    }
   },
   "source": [
    "import sympy as sp\n",
    "\n",
    "# an, one, n, an1, an2, an3, an4, an5 = sp.abc.symbols('a(n), 1, n, a(n-1), a(n-2), a(n-3), a(n-4), a(n-5)')\n",
    "an, one, n, an1, an2, an3, an4, an5 = sp.symbols('a(n), 1, n, a(n-1), a(n-2), a(n-3), a(n-4), a(n-5)')\n",
    "X_symb = np.array([[an, one, n, an1, an2, an3, an4, an5]])\n",
    "X_symb = X_symb[:, mold]\n",
    "print(mold)\n",
    "print(X_symb)\n",
    "\n",
    "G = vi.evaluate(X_symb, target='vanishing')  # (1, 6) array\n",
    "G = np.ravel(G)\n",
    "# vi.plot(data, splitshow=True)  # fails in more than 2 dims."
   ],
   "outputs": [
    {
     "name": "stdout",
     "output_type": "stream",
     "text": [
      "[0, 3, 4]\n",
      "[[a(n) a(n-1) a(n-2)]]\n"
     ]
    }
   ],
   "execution_count": 20
  },
  {
   "cell_type": "code",
   "metadata": {
    "colab": {
     "base_uri": "https://localhost:8080/",
     "height": 594
    },
    "id": "sErBrYtYYqsD",
    "outputId": "e5797bc2-870d-4243-c8ec-3e4254a9b727",
    "ExecuteTime": {
     "end_time": "2024-04-05T15:04:07.670935Z",
     "start_time": "2024-04-05T15:04:07.632802Z"
    }
   },
   "source": [
    "from IPython.display import display\n",
    "import mavi_eed_utils as mu\n",
    "import importlib\n",
    "importlib.reload(mu)\n",
    "\n",
    "if seq_id == 'A000045':\n",
    "    print('Candidate equations for Fibonacci sequences:\\n')\n",
    "for i, g in enumerate(G):\n",
    "    print(f'vanishing polynomial #{i}')\n",
    "    # display(g)\n",
    "    g = sp.expand(g)\n",
    "    display(mu.simpl_disp(g, verbosity=0, num_digits=2, epsilon=1e-10)[0])\n",
    "    print('')"
   ],
   "outputs": [
    {
     "name": "stdout",
     "output_type": "stream",
     "text": [
      "Candidate equations for Fibonacci sequences:\n",
      "\n",
      "vanishing polynomial #0\n"
     ]
    },
    {
     "data": {
      "text/plain": [
       "Eq(-1.0e-10*a(n) + 2.0e-10*a(n-1), 0)"
      ],
      "text/latex": "$\\displaystyle - 1.0 \\cdot 10^{-10} a(n) + 2.0 \\cdot 10^{-10} a(n-1) = 0$"
     },
     "metadata": {},
     "output_type": "display_data"
    },
    {
     "name": "stdout",
     "output_type": "stream",
     "text": [
      "\n",
      "vanishing polynomial #1\n"
     ]
    },
    {
     "data": {
      "text/plain": [
       "Eq(1.0e-6*a(n) - 1.0e-6*a(n-1) - 1.0e-6*a(n-2), 0)"
      ],
      "text/latex": "$\\displaystyle 1.0 \\cdot 10^{-6} a(n) - 1.0 \\cdot 10^{-6} a(n-1) - 1.0 \\cdot 10^{-6} a(n-2) = 0$"
     },
     "metadata": {},
     "output_type": "display_data"
    },
    {
     "name": "stdout",
     "output_type": "stream",
     "text": [
      "\n",
      "vanishing polynomial #2\n"
     ]
    },
    {
     "data": {
      "text/plain": [
       "Eq(-0.0002*a(n) + 0.0002*a(n-1) + 0.0002*a(n-2), 0)"
      ],
      "text/latex": "$\\displaystyle - 0.0002 a(n) + 0.0002 a(n-1) + 0.0002 a(n-2) = 0$"
     },
     "metadata": {},
     "output_type": "display_data"
    },
    {
     "name": "stdout",
     "output_type": "stream",
     "text": [
      "\n",
      "vanishing polynomial #3\n"
     ]
    },
    {
     "data": {
      "text/plain": [
       "Eq(-5.0e-7*a(n) + 5.0e-7*a(n-1) + 5.0e-7*a(n-2), 0)"
      ],
      "text/latex": "$\\displaystyle - 5.0 \\cdot 10^{-7} a(n) + 5.0 \\cdot 10^{-7} a(n-1) + 5.0 \\cdot 10^{-7} a(n-2) = 0$"
     },
     "metadata": {},
     "output_type": "display_data"
    },
    {
     "name": "stdout",
     "output_type": "stream",
     "text": [
      "\n"
     ]
    }
   ],
   "execution_count": 24
  },
  {
   "cell_type": "code",
   "metadata": {
    "ExecuteTime": {
     "end_time": "2024-04-05T15:02:27.080637Z",
     "start_time": "2024-04-05T15:02:27.070685Z"
    }
   },
   "source": [
    "# Results\n",
    "\n",
    "# success !!!: fibo:\n",
    "# -an + an1 + an2 = 0\n",
    "# an = an1 + an2\n",
    "\n",
    "# A000124: ground truth: an = 1/2 * n(n-1) + 1\n",
    "\"\"\" wrong data used:\n",
    "#  4 - n = a(n) * (n + 1 )\n",
    "# (4 - n)/(n+1) = a(n) \n",
    "# -a(n) (n - 1 ) - n + 4 = 0\n",
    "\"\"\"\n",
    "# 2an**2 - 3an * n - 2an + 2n2 - 2n + 3 = 0\n",
    "# an(2an - 3 n - 2) = 2n - 2n2 - 3\n",
    "# an(2an - 3 n - 2) = 2n(1 - n) - 3 \n",
    "# \n",
    "\n",
    "# success: A000037: truth an = n (( 1, 2, 3, 4, 5 ...))\n",
    "# -a(n) + n + 1 = 0\n",
    "# a(n) =  n + 1\n",
    "\n",
    "\n"
   ],
   "outputs": [
    {
     "data": {
      "text/plain": [
       "' wrong data used:\\n#  4 - n = a(n) * (n + 1 )\\n# (4 - n)/(n+1) = a(n) \\n# -a(n) (n - 1 ) - n + 4 = 0\\n'"
      ]
     },
     "execution_count": 22,
     "metadata": {},
     "output_type": "execute_result"
    }
   ],
   "execution_count": 22
  },
  {
   "metadata": {},
   "cell_type": "code",
   "outputs": [],
   "execution_count": null,
   "source": ""
  }
 ],
 "metadata": {
  "colab": {
   "provenance": []
  },
  "kernelspec": {
   "display_name": "Python 3 (ipykernel)",
   "language": "python",
   "name": "python3"
  },
  "language_info": {
   "codemirror_mode": {
    "name": "ipython",
    "version": 3
   },
   "file_extension": ".py",
   "mimetype": "text/x-python",
   "name": "python",
   "nbconvert_exporter": "python",
   "pygments_lexer": "ipython3",
   "version": "3.11.2"
  }
 },
 "nbformat": 4,
 "nbformat_minor": 4
}
