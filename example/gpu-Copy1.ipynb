{
 "cells": [
  {
   "cell_type": "code",
   "execution_count": 11,
   "metadata": {
    "colab": {
     "base_uri": "https://localhost:8080/",
     "height": 1000
    },
    "executionInfo": {
     "elapsed": 4154,
     "status": "ok",
     "timestamp": 1628089873759,
     "user": {
      "displayName": "Hiroshi Kera",
      "photoUrl": "",
      "userId": "01053422096626415082"
     },
     "user_tz": -540
    },
    "id": "tkay9nnsr2LR",
    "outputId": "e2df8dad-d715-4dd3-e93c-353fec633cc7"
   },
   "outputs": [],
   "source": [
    "# -------------------------\n",
    "# If you use Google Colab\n",
    "# -------------------------\n",
    "# Run this cell to mount your Google Drive.\n",
    "from google.colab import drive\n",
    "drive.mount('/content/drive')\n",
    "\n",
    "%cd \"/content/drive/MyDrive/Colab Notebooks/mavi\"\n",
    "\n",
    "import numpy as np \n",
    "import torch\n",
    "import matplotlib.pyplot as plt\n",
    "from mavi.vanishing_ideal import VanishingIdeal\n",
    "\n",
    "theta = [np.pi*i/3 for i in range(6)]\n",
    "X = np.vstack((np.cos(theta), np.sin(theta))).T\n",
    "X = torch.tensor(X)\n",
    "\n",
    "plt.plot(X[:,0], X[:,1], \"o\")\n",
    "\n",
    "vi = VanishingIdeal()\n",
    "vi.fit(X, 0.01, method=\"grad\", backend='torch') \n",
    "output = vi.evaluate(X)\n",
    "print(X.device, vi.device, output.device)\n",
    "\n",
    "Z = X.cuda()\n",
    "vi.to(Z.device)\n",
    "output = vi.evaluate(Z)\n",
    "print(Z.device, vi.device, output.device)\n",
    "\n",
    "vi.to('cpu')\n",
    "vi.plot(Z.to('cpu'), splitshow=True)"
   ]
  },
  {
   "cell_type": "raw",
   "metadata": {
    "colab": {
     "base_uri": "https://localhost:8080/",
     "height": 1000
    },
    "executionInfo": {
     "elapsed": 4154,
     "status": "ok",
     "timestamp": 1628089873759,
     "user": {
      "displayName": "Hiroshi Kera",
      "photoUrl": "",
      "userId": "01053422096626415082"
     },
     "user_tz": -540
    },
    "id": "tkay9nnsr2LR",
    "outputId": "e2df8dad-d715-4dd3-e93c-353fec633cc7"
   },
   "source": [
    "# -------------------------\n",
    "# If you use Google Colab\n",
    "# -------------------------\n",
    "# Run this cell to mount your Google Drive.\n",
    "from google.colab import drive\n",
    "drive.mount('/content/drive')\n",
    "\n",
    "%cd \"/content/drive/MyDrive/Colab Notebooks/mavi\"\n",
    "\n",
    "import numpy as np \n",
    "import torch\n",
    "import matplotlib.pyplot as plt\n",
    "from mavi.vanishing_ideal import VanishingIdeal\n",
    "\n",
    "theta = [np.pi*i/3 for i in range(6)]\n",
    "X = np.vstack((np.cos(theta), np.sin(theta))).T\n",
    "X = torch.tensor(X)\n",
    "\n",
    "plt.plot(X[:,0], X[:,1], \"o\")\n",
    "\n",
    "vi = VanishingIdeal()\n",
    "vi.fit(X, 0.01, method=\"grad\", backend='torch') \n",
    "output = vi.evaluate(X)\n",
    "print(X.device, vi.device, output.device)\n",
    "\n",
    "Z = X.cuda()\n",
    "vi.to(Z.device)\n",
    "output = vi.evaluate(Z)\n",
    "print(Z.device, vi.device, output.device)\n",
    "\n",
    "vi.to('cpu')\n",
    "vi.plot(Z.to('cpu'), splitshow=True)"
   ]
  },
  {
   "cell_type": "code",
   "execution_count": null,
   "metadata": {
    "id": "WzAa4lV2tzW1"
   },
   "outputs": [],
   "source": []
  }
 ],
 "metadata": {
  "accelerator": "GPU",
  "colab": {
   "authorship_tag": "ABX9TyNPFbAkxHeDLrQ8pMojqFla",
   "collapsed_sections": [],
   "name": "gpu.ipynb",
   "provenance": []
  },
  "kernelspec": {
   "display_name": "Python 3 (ipykernel)",
   "language": "python",
   "name": "python3"
  },
  "language_info": {
   "codemirror_mode": {
    "name": "ipython",
    "version": 3
   },
   "file_extension": ".py",
   "mimetype": "text/x-python",
   "name": "python",
   "nbconvert_exporter": "python",
   "pygments_lexer": "ipython3",
   "version": "3.9.2"
  }
 },
 "nbformat": 4,
 "nbformat_minor": 4
}
