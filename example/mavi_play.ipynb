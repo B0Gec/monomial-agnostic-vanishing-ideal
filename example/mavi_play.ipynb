{
 "cells": [
  {
   "cell_type": "code",
   "execution_count": 4,
   "metadata": {
    "colab": {
     "base_uri": "https://localhost:8080/"
    },
    "id": "uPL1cN43CzFV",
    "outputId": "a3988f69-02e8-4cb4-f412-787d4dcdbef1",
    "ExecuteTime": {
     "end_time": "2024-04-04T09:04:23.902341Z",
     "start_time": "2024-04-04T09:04:23.900014Z"
    }
   },
   "outputs": [],
   "source": [
    "#!git clone https://github.com/HiroshiKERA/monomial-agnostic-vanishing-ideal.git"
   ]
  },
  {
   "cell_type": "code",
   "execution_count": 5,
   "metadata": {
    "colab": {
     "base_uri": "https://localhost:8080/"
    },
    "id": "pPR__g6DYALA",
    "outputId": "69f46fd2-d38f-46b6-8fdc-14351c9bf3eb",
    "ExecuteTime": {
     "end_time": "2024-04-04T09:04:24.218Z",
     "start_time": "2024-04-04T09:04:24.213067Z"
    }
   },
   "outputs": [],
   "source": [
    "# import os\n",
    "# path = '/content/monomial-agnostic-vanishing-ideal/'\n",
    "\n",
    "# os.chdir(path)\n",
    "# !ls\n",
    "# !pip install diophantine"
   ]
  },
  {
   "cell_type": "code",
   "execution_count": 6,
   "metadata": {
    "id": "bDcIEVwwXoXC",
    "scrolled": true,
    "ExecuteTime": {
     "end_time": "2024-04-04T09:04:25.778194Z",
     "start_time": "2024-04-04T09:04:24.436483Z"
    }
   },
   "outputs": [],
   "source": [
    "import sys\n",
    "sys.path.append('..')\n",
    "# sys.path.append('..')\n",
    "\n",
    "import numpy as np\n",
    "import matplotlib.pyplot as plt\n",
    "\n",
    "from mavi.vanishing_ideal import VanishingIdeal"
   ]
  },
  {
   "cell_type": "code",
   "execution_count": 11,
   "metadata": {
    "colab": {
     "base_uri": "https://localhost:8080/",
     "height": 447
    },
    "id": "rYpSbvAZXyho",
    "outputId": "bcb1c75c-32b5-4006-ab24-639a9f4b328c",
    "scrolled": true,
    "ExecuteTime": {
     "end_time": "2024-04-04T09:04:31.837259Z",
     "start_time": "2024-04-04T09:04:31.689409Z"
    }
   },
   "outputs": [
    {
     "data": {
      "text/plain": "[<matplotlib.lines.Line2D at 0x7f915b951410>]"
     },
     "execution_count": 11,
     "metadata": {},
     "output_type": "execute_result"
    },
    {
     "data": {
      "text/plain": "<Figure size 640x480 with 1 Axes>",
      "image/png": "[encoded data removed]"
     },
     "metadata": {},
     "output_type": "display_data"
    }
   ],
   "source": [
    "npts = 3890\n",
    "theta = [np.pi*i/(npts/2) for i in range(npts)]\n",
    "X = np.vstack((np.cos(theta), np.sin(theta))).T\n",
    "plt.plot(X[:,0], X[:,1], \"o\")"
   ]
  },
  {
   "cell_type": "code",
   "execution_count": 12,
   "metadata": {
    "colab": {
     "base_uri": "https://localhost:8080/"
    },
    "id": "rHCN1hyOYbM2",
    "outputId": "8419e6cf-b4b1-44bc-b319-1cf28dd827c4",
    "ExecuteTime": {
     "end_time": "2024-04-04T09:04:43.961421Z",
     "start_time": "2024-04-04T09:04:43.842050Z"
    }
   },
   "outputs": [
    {
     "data": {
      "text/plain": "<mavi.numpy.basis_construction.grad.Basist at 0x7f922c9e2290>"
     },
     "execution_count": 12,
     "metadata": {},
     "output_type": "execute_result"
    }
   ],
   "source": [
    "vi = VanishingIdeal()\n",
    "# vi.fit(X, 0.01, method=\"grad\")\n",
    "# vi.fit(X, 0.01, method=\"grad\", max_degree=3)\n",
    "vi.fit(X, 0.01, method=\"grad\", max_degree=2)\n",
    "# vi.fit(data, 0.01, method=\"grad\", max_degree=2)\n",
    "vi.basis[0]"
   ]
  },
  {
   "cell_type": "code",
   "execution_count": 14,
   "metadata": {
    "id": "mJoryIFHYg9Y",
    "ExecuteTime": {
     "end_time": "2024-04-04T09:04:58.374118Z",
     "start_time": "2024-04-04T09:04:58.302844Z"
    }
   },
   "outputs": [
    {
     "data": {
      "text/plain": "array([-7.11162965870929e-17*x - 1.06359771001936e-16*y - 1.16660177431213e-16*(0.999999500000375*x + 9.79034286752396e-17)*(0.999999500000375*y + 2.20313073379942e-18) + 0.499999791666797*(x + 9.79034776269417e-17)**2 + 0.499999791666797*(y + 2.20313183536451e-18)**2 - 0.499999791666797],\n      dtype=object)"
     },
     "execution_count": 14,
     "metadata": {},
     "output_type": "execute_result"
    }
   ],
   "source": [
    "import sympy as sp\n",
    "from sympy.abc import x, y, z, w, u\n",
    "X_symb = np.array([[x, y]])\n",
    "# X_symb = np.array([[x, y, z, w]])\n",
    "# all_symbs = [x, y, z, w, u][:data.shape[1]]\n",
    "# X_symb = np.array([[x, y, z, w, u][0:data.shape[1]]])\n",
    "\n",
    "G = vi.evaluate(X_symb, target='vanishing')  # (1, 6) array\n",
    "G = np.ravel(G)\n",
    "# print(type(G[0]))\n",
    "# vi.plot(X, splitshow=True)\n",
    "G"
   ]
  },
  {
   "cell_type": "code",
   "execution_count": 15,
   "metadata": {
    "colab": {
     "base_uri": "https://localhost:8080/",
     "height": 594
    },
    "id": "sErBrYtYYqsD",
    "outputId": "e5797bc2-870d-4243-c8ec-3e4254a9b727",
    "ExecuteTime": {
     "end_time": "2024-04-04T09:05:03.613568Z",
     "start_time": "2024-04-04T09:05:03.582388Z"
    }
   },
   "outputs": [
    {
     "name": "stdout",
     "output_type": "stream",
     "text": [
      "vanishing polynomial #0\n"
     ]
    },
    {
     "data": {
      "text/plain": "0.499999791666797*x**2 - 1.16660060771153e-16*x*y + 2.67871402467586e-17*x + 0.499999791666797*y**2 - 1.04156640084542e-16*y - 0.499999791666797",
      "text/latex": "$\\displaystyle 0.499999791666797 x^{2} - 1.16660060771153 \\cdot 10^{-16} x y + 2.67871402467586 \\cdot 10^{-17} x + 0.499999791666797 y^{2} - 1.04156640084542 \\cdot 10^{-16} y - 0.499999791666797$"
     },
     "metadata": {},
     "output_type": "display_data"
    },
    {
     "name": "stdout",
     "output_type": "stream",
     "text": []
    }
   ],
   "source": [
    "from IPython.display import display\n",
    "for i, g in enumerate(G):\n",
    "    print(f'vanishing polynomial #{i}')\n",
    "    # display(g)\n",
    "    g = sp.expand(g)\n",
    "    display(g)\n",
    "    # print(g)\n",
    "    print('')"
   ]
  },
  {
   "cell_type": "code",
   "execution_count": 81,
   "metadata": {
    "ExecuteTime": {
     "end_time": "2024-04-04T09:56:48.567237Z",
     "start_time": "2024-04-04T09:56:48.551627Z"
    }
   },
   "outputs": [
    {
     "data": {
      "text/plain": "Eq(0.5*x**2 + 0.5*y**2 - 0.5, 0)",
      "text/latex": "$\\displaystyle 0.5 x^{2} + 0.5 y^{2} - 0.5 = 0$"
     },
     "metadata": {},
     "output_type": "display_data"
    }
   ],
   "source": [
    "def round_expr(expr, num_digits):  # author: https://stackoverflow.com/a/48491897\n",
    "    return expr.xreplace({n : round(n, num_digits) for n in expr.atoms(sp.Number)})\n",
    "\n",
    "def simpl_disp(expr):\n",
    "    smds = sp.Add.make_args(expr)\n",
    "    # display(smds)\n",
    "    # li[0] < 1e-10\n",
    "    li = [sp.Mul.make_args(smd)[0] for smd in smds]\n",
    "    # display(li)\n",
    "    # li = [(abs(smd) > 1e-10) for smd in li]\n",
    "    li = [smds[i] for i, smd in enumerate(li) if (abs(smd) > 1e-10)]\n",
    "    # li = [smd for smd in li ]\n",
    "# li = [f'{smd:e}' for smd in li]\n",
    "    expr = sum([round_expr(smd, 3) for smd in li]) \n",
    "    eq = sp.Eq(expr, 0)\n",
    "    # display(li)\n",
    "    # display(expr)\n",
    "    # display(eq)\n",
    "    return eq, expr\n",
    "\n",
    "display(simpl_disp(g)[0])"
   ]
  },
  {
   "cell_type": "code",
   "outputs": [],
   "source": [],
   "metadata": {
    "collapsed": false
   }
  }
 ],
 "metadata": {
  "colab": {
   "provenance": []
  },
  "kernelspec": {
   "display_name": "Python 3 (ipykernel)",
   "language": "python",
   "name": "python3"
  },
  "language_info": {
   "codemirror_mode": {
    "name": "ipython",
    "version": 3
   },
   "file_extension": ".py",
   "mimetype": "text/x-python",
   "name": "python",
   "nbconvert_exporter": "python",
   "pygments_lexer": "ipython3",
   "version": "3.11.2"
  }
 },
 "nbformat": 4,
 "nbformat_minor": 4
}
