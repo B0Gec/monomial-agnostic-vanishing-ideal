{
 "cells": [
  {
   "cell_type": "code",
   "metadata": {
    "colab": {
     "base_uri": "https://localhost:8080/"
    },
    "id": "uPL1cN43CzFV",
    "outputId": "a3988f69-02e8-4cb4-f412-787d4dcdbef1",
    "ExecuteTime": {
     "end_time": "2024-04-05T07:44:27.058700Z",
     "start_time": "2024-04-05T07:44:27.053298Z"
    }
   },
   "source": [
    "#!git clone https://github.com/HiroshiKERA/monomial-agnostic-vanishing-ideal.git"
   ],
   "outputs": [],
   "execution_count": 2
  },
  {
   "cell_type": "code",
   "metadata": {
    "colab": {
     "base_uri": "https://localhost:8080/"
    },
    "id": "pPR__g6DYALA",
    "outputId": "69f46fd2-d38f-46b6-8fdc-14351c9bf3eb",
    "ExecuteTime": {
     "end_time": "2024-04-05T07:44:28.737760Z",
     "start_time": "2024-04-05T07:44:28.382756Z"
    }
   },
   "source": [
    "# import os\n",
    "# path = '/content/monomial-agnostic-vanishing-ideal/'\n",
    "\n",
    "# os.chdir(path)\n",
    "# !ls\n",
    "# !pip install scikit-learn\n",
    "!pip --version"
   ],
   "outputs": [
    {
     "name": "stdout",
     "output_type": "stream",
     "text": [
      "pip 23.0.1 from /home/bosg/Documents/py-envs/vii/lib/python3.11/site-packages/pip (python 3.11)\r\n"
     ]
    }
   ],
   "execution_count": 3
  },
  {
   "cell_type": "code",
   "metadata": {
    "id": "bDcIEVwwXoXC",
    "scrolled": true,
    "ExecuteTime": {
     "end_time": "2024-04-05T07:44:31.395987Z",
     "start_time": "2024-04-05T07:44:30.195171Z"
    }
   },
   "source": [
    "import sys\n",
    "sys.path.append('..')\n",
    "# sys.path.append('..')\n",
    "\n",
    "import numpy as np\n",
    "import matplotlib.pyplot as plt\n",
    "\n",
    "from mavi.vanishing_ideal import VanishingIdeal"
   ],
   "outputs": [],
   "execution_count": 4
  },
  {
   "cell_type": "code",
   "metadata": {
    "colab": {
     "base_uri": "https://localhost:8080/",
     "height": 447
    },
    "id": "rYpSbvAZXyho",
    "outputId": "bcb1c75c-32b5-4006-ab24-639a9f4b328c",
    "scrolled": true,
    "ExecuteTime": {
     "end_time": "2024-04-05T07:44:32.801669Z",
     "start_time": "2024-04-05T07:44:32.318480Z"
    }
   },
   "source": [
    "npts = 3890\n",
    "theta = [np.pi*i/(npts/2) for i in range(npts)]\n",
    "# circle\n",
    "X = np.vstack((np.cos(theta), np.sin(theta))).T\n",
    "\n",
    "from sklearn import preprocessing\n",
    "# print(sk.__version__)\n",
    "\n",
    "\n",
    "xs = np.linspace(-1, 1, 100)\n",
    "ys = np.linspace(2, 3, 100)\n",
    "\n",
    "xs = [i for i in range(100)]\n",
    "ys = [i**2 for i in xs]\n",
    "ys = [0 for i in xs]\n",
    "# noise = 1 + 0 * np.linspace(-1, 1, 100)\n",
    "print(xs)\n",
    "# y = x^2 \n",
    "# X = np.vstack((xs, xs**2)).T\n",
    "# X = np.vstack((xs, ys, xs+ys)).T\n",
    "X = np.vstack((xs, ys)).T\n",
    "\n",
    "# X = np.vstack((xs, ys)).T\n",
    "plt.plot(X[:,0], X[:,1], \"o\")\n",
    "plt.show()\n",
    "# print(X)\n",
    "# X = preprocessing.normalize(X, axis=0)\n",
    "print(X)\n",
    "\n",
    "# print(type(X[0,0]))\n",
    "# 1/0\n",
    "# X = np.vstack((xs, xs**2, noise)).T\n",
    "# plt.plot(X[:,0], X[:,1], \"o\", color='red')\n",
    "plt.plot(X[:,0], X[:,1], \"o\")\n",
    "# plt.scatter(X[:,0], X[:,1], X[:,2], \"o\")"
   ],
   "outputs": [
    {
     "name": "stdout",
     "output_type": "stream",
     "text": [
      "[0, 1, 2, 3, 4, 5, 6, 7, 8, 9, 10, 11, 12, 13, 14, 15, 16, 17, 18, 19, 20, 21, 22, 23, 24, 25, 26, 27, 28, 29, 30, 31, 32, 33, 34, 35, 36, 37, 38, 39, 40, 41, 42, 43, 44, 45, 46, 47, 48, 49, 50, 51, 52, 53, 54, 55, 56, 57, 58, 59, 60, 61, 62, 63, 64, 65, 66, 67, 68, 69, 70, 71, 72, 73, 74, 75, 76, 77, 78, 79, 80, 81, 82, 83, 84, 85, 86, 87, 88, 89, 90, 91, 92, 93, 94, 95, 96, 97, 98, 99]\n"
     ]
    },
    {
     "data": {
      "text/plain": [
       "<Figure size 640x480 with 1 Axes>"
      ],
      "image/png": "[encoded data removed]"
     },
     "metadata": {},
     "output_type": "display_data"
    },
    {
     "name": "stdout",
     "output_type": "stream",
     "text": [
      "[[ 0  0]\n",
      " [ 1  0]\n",
      " [ 2  0]\n",
      " [ 3  0]\n",
      " [ 4  0]\n",
      " [ 5  0]\n",
      " [ 6  0]\n",
      " [ 7  0]\n",
      " [ 8  0]\n",
      " [ 9  0]\n",
      " [10  0]\n",
      " [11  0]\n",
      " [12  0]\n",
      " [13  0]\n",
      " [14  0]\n",
      " [15  0]\n",
      " [16  0]\n",
      " [17  0]\n",
      " [18  0]\n",
      " [19  0]\n",
      " [20  0]\n",
      " [21  0]\n",
      " [22  0]\n",
      " [23  0]\n",
      " [24  0]\n",
      " [25  0]\n",
      " [26  0]\n",
      " [27  0]\n",
      " [28  0]\n",
      " [29  0]\n",
      " [30  0]\n",
      " [31  0]\n",
      " [32  0]\n",
      " [33  0]\n",
      " [34  0]\n",
      " [35  0]\n",
      " [36  0]\n",
      " [37  0]\n",
      " [38  0]\n",
      " [39  0]\n",
      " [40  0]\n",
      " [41  0]\n",
      " [42  0]\n",
      " [43  0]\n",
      " [44  0]\n",
      " [45  0]\n",
      " [46  0]\n",
      " [47  0]\n",
      " [48  0]\n",
      " [49  0]\n",
      " [50  0]\n",
      " [51  0]\n",
      " [52  0]\n",
      " [53  0]\n",
      " [54  0]\n",
      " [55  0]\n",
      " [56  0]\n",
      " [57  0]\n",
      " [58  0]\n",
      " [59  0]\n",
      " [60  0]\n",
      " [61  0]\n",
      " [62  0]\n",
      " [63  0]\n",
      " [64  0]\n",
      " [65  0]\n",
      " [66  0]\n",
      " [67  0]\n",
      " [68  0]\n",
      " [69  0]\n",
      " [70  0]\n",
      " [71  0]\n",
      " [72  0]\n",
      " [73  0]\n",
      " [74  0]\n",
      " [75  0]\n",
      " [76  0]\n",
      " [77  0]\n",
      " [78  0]\n",
      " [79  0]\n",
      " [80  0]\n",
      " [81  0]\n",
      " [82  0]\n",
      " [83  0]\n",
      " [84  0]\n",
      " [85  0]\n",
      " [86  0]\n",
      " [87  0]\n",
      " [88  0]\n",
      " [89  0]\n",
      " [90  0]\n",
      " [91  0]\n",
      " [92  0]\n",
      " [93  0]\n",
      " [94  0]\n",
      " [95  0]\n",
      " [96  0]\n",
      " [97  0]\n",
      " [98  0]\n",
      " [99  0]]\n"
     ]
    },
    {
     "data": {
      "text/plain": [
       "[<matplotlib.lines.Line2D at 0x7f8fd413ce10>]"
      ]
     },
     "execution_count": 5,
     "metadata": {},
     "output_type": "execute_result"
    },
    {
     "data": {
      "text/plain": [
       "<Figure size 640x480 with 1 Axes>"
      ],
      "image/png": "[encoded data removed]"
     },
     "metadata": {},
     "output_type": "display_data"
    }
   ],
   "execution_count": 5
  },
  {
   "cell_type": "code",
   "metadata": {
    "colab": {
     "base_uri": "https://localhost:8080/"
    },
    "id": "rHCN1hyOYbM2",
    "outputId": "8419e6cf-b4b1-44bc-b319-1cf28dd827c4",
    "ExecuteTime": {
     "end_time": "2024-04-05T07:44:34.299604Z",
     "start_time": "2024-04-05T07:44:33.992175Z"
    }
   },
   "source": [
    "vi = VanishingIdeal()\n",
    "# vi.fit(X, 0.01, method=\"grad\")\n",
    "# vi.fit(X, 0.01, method=\"grad\", max_degree=3)\n",
    "vi.fit(X, 0.01, method=\"grad\", max_degree=2)\n",
    "# vi.fit(data, 0.01, method=\"grad\", max_degree=2)\n",
    "vi.basis[0]"
   ],
   "outputs": [
    {
     "data": {
      "text/plain": [
       "<mavi.numpy.basis_construction.grad.Basist at 0x7f8fd11a7dd0>"
      ]
     },
     "execution_count": 6,
     "metadata": {},
     "output_type": "execute_result"
    }
   ],
   "execution_count": 6
  },
  {
   "cell_type": "code",
   "metadata": {
    "id": "mJoryIFHYg9Y",
    "ExecuteTime": {
     "end_time": "2024-04-05T07:47:15.317242Z",
     "start_time": "2024-04-05T07:47:15.129253Z"
    }
   },
   "source": [
    "import sympy as sp\n",
    "from sympy.abc import x, y, z, w, u\n",
    "X_symb = np.array([[x, y]])\n",
    "# X_symb = np.array([[x, y, z, w]])\n",
    "# all_symbs = [x, y, z, w, u][:data.shape[1]]\n",
    "# print(X.shape)\n",
    "X_symb = np.array([[x, y, z, w, u][0:X.shape[1]]])\n",
    "# print(X_symb)\n",
    "\n",
    "G = vi.evaluate(X_symb, target='vanishing')  # (1, 6) array\n",
    "G = np.ravel(G)\n",
    "\n",
    "# print(type(G[0]))\n",
    "# print(G[1])\n",
    "vi.plot(X, splitshow=True)\n",
    "# vi.plot(X)\n",
    "# G\n",
    "# simpl_disp(G[0])\n",
    "\n",
    "from IPython.display import display\n",
    "for i, g in enumerate(G):\n",
    "    print(f'vanishing polynomial #{i}')\n",
    "    # display(g)\n",
    "    g = sp.expand(g)\n",
    "    # display(g)\n",
    "    display(simpl_disp(g)[0])\n",
    "    # print(g)\n",
    "    print('')\n"
   ],
   "outputs": [
    {
     "data": {
      "text/plain": [
       "<Figure size 640x480 with 1 Axes>"
      ],
      "image/png": "[encoded data removed]"
     },
     "metadata": {},
     "output_type": "display_data"
    },
    {
     "name": "stdout",
     "output_type": "stream",
     "text": [
      "vanishing polynomial #0\n"
     ]
    },
    {
     "data": {
      "text/plain": [
       "Eq(1.0*y, 0)"
      ],
      "text/latex": "$\\displaystyle 1.0 y = 0$"
     },
     "metadata": {},
     "output_type": "display_data"
    },
    {
     "name": "stdout",
     "output_type": "stream",
     "text": [
      "\n"
     ]
    }
   ],
   "execution_count": 10
  },
  {
   "cell_type": "code",
   "metadata": {
    "ExecuteTime": {
     "end_time": "2024-04-05T07:44:42.036491Z",
     "start_time": "2024-04-05T07:44:42.027154Z"
    }
   },
   "source": [
    "def round_expr(expr, num_digits):  # author: https://stackoverflow.com/a/48491897\n",
    "    return expr.xreplace({n : round(n, num_digits) for n in expr.atoms(sp.Number)})\n",
    "\n",
    "def simpl_disp(expr):\n",
    "    smds = sp.Add.make_args(expr)\n",
    "    # display(smds)\n",
    "    # li[0] < 1e-10\n",
    "    li = [sp.Mul.make_args(smd)[0] for smd in smds]\n",
    "    # display(li)\n",
    "    # li = [(abs(smd) > 1e-10) for smd in li]\n",
    "    li = [smds[i] for i, smd in enumerate(li) if (abs(smd) > 1e-10)]\n",
    "    # li = [smd for smd in li ]\n",
    "# li = [f'{smd:e}' for smd in li]\n",
    "    expr = sum([round_expr(smd, 3) for smd in li]) \n",
    "    eq = sp.Eq(expr, 0)\n",
    "    # display(li)\n",
    "    # display(expr)\n",
    "    # display(eq)\n",
    "    return eq, expr\n",
    "\n",
    "display(simpl_disp(g)[0])"
   ],
   "outputs": [
    {
     "data": {
      "text/plain": [
       "Eq(1.0*y, 0)"
      ],
      "text/latex": "$\\displaystyle 1.0 y = 0$"
     },
     "metadata": {},
     "output_type": "display_data"
    }
   ],
   "execution_count": 8
  },
  {
   "cell_type": "code",
   "outputs": [],
   "source": [],
   "metadata": {
    "collapsed": false
   },
   "execution_count": null
  }
 ],
 "metadata": {
  "colab": {
   "provenance": []
  },
  "kernelspec": {
   "display_name": "Python 3 (ipykernel)",
   "language": "python",
   "name": "python3"
  },
  "language_info": {
   "codemirror_mode": {
    "name": "ipython",
    "version": 3
   },
   "file_extension": ".py",
   "mimetype": "text/x-python",
   "name": "python",
   "nbconvert_exporter": "python",
   "pygments_lexer": "ipython3",
   "version": "3.11.2"
  }
 },
 "nbformat": 4,
 "nbformat_minor": 4
}
