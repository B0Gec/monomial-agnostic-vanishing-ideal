{
 "cells": [
  {
   "cell_type": "code",
   "execution_count": null,
   "metadata": {
    "colab": {
     "base_uri": "https://localhost:8080/"
    },
    "id": "uPL1cN43CzFV",
    "outputId": "a3988f69-02e8-4cb4-f412-787d4dcdbef1",
    "is_executing": true
   },
   "outputs": [],
   "source": [
    "#!git clone https://github.com/HiroshiKERA/monomial-agnostic-vanishing-ideal.git"
   ]
  },
  {
   "cell_type": "code",
   "execution_count": null,
   "metadata": {
    "colab": {
     "base_uri": "https://localhost:8080/"
    },
    "id": "pPR__g6DYALA",
    "outputId": "69f46fd2-d38f-46b6-8fdc-14351c9bf3eb",
    "is_executing": true
   },
   "outputs": [],
   "source": [
    "# import os\n",
    "# path = '/content/monomial-agnostic-vanishing-ideal/'\n",
    "\n",
    "# os.chdir(path)\n",
    "# !ls"
   ]
  },
  {
   "cell_type": "code",
   "execution_count": 4,
   "metadata": {
    "id": "bDcIEVwwXoXC",
    "scrolled": true,
    "ExecuteTime": {
     "end_time": "2024-04-04T08:49:40.300896Z",
     "start_time": "2024-04-04T08:49:40.296920Z"
    }
   },
   "outputs": [],
   "source": [
    "import sys\n",
    "sys.path.append('..')\n",
    "\n",
    "import numpy as np\n",
    "import matplotlib.pyplot as plt\n",
    "\n",
    "from mavi.vanishing_ideal import VanishingIdeal"
   ]
  },
  {
   "cell_type": "code",
   "execution_count": 5,
   "metadata": {
    "ExecuteTime": {
     "end_time": "2024-04-04T08:49:44.486556Z",
     "start_time": "2024-04-04T08:49:44.482426Z"
    }
   },
   "outputs": [],
   "source": [
    "import sys\n",
    "# sys.path.append('..')\n",
    "# # import numpy as np\n",
    "# !ls\n",
    "# !pip --version\n",
    "# # !pip install torch"
   ]
  },
  {
   "cell_type": "code",
   "execution_count": 6,
   "metadata": {
    "colab": {
     "base_uri": "https://localhost:8080/",
     "height": 447
    },
    "id": "rYpSbvAZXyho",
    "outputId": "bcb1c75c-32b5-4006-ab24-639a9f4b328c",
    "ExecuteTime": {
     "end_time": "2024-04-04T08:49:45.056827Z",
     "start_time": "2024-04-04T08:49:44.870719Z"
    }
   },
   "outputs": [
    {
     "data": {
      "text/plain": "[<matplotlib.lines.Line2D at 0x7f5fb53e1e50>]"
     },
     "execution_count": 6,
     "metadata": {},
     "output_type": "execute_result"
    },
    {
     "data": {
      "text/plain": "<Figure size 640x480 with 1 Axes>",
      "image/png": "[encoded data removed]"
     },
     "metadata": {},
     "output_type": "display_data"
    }
   ],
   "source": [
    "theta = [np.pi*i/3 for i in range(6)]\n",
    "X = np.vstack((np.cos(theta), np.sin(theta))).T\n",
    "plt.plot(X[:,0], X[:,1], \"o\")"
   ]
  },
  {
   "cell_type": "code",
   "execution_count": 7,
   "metadata": {
    "colab": {
     "base_uri": "https://localhost:8080/"
    },
    "id": "rHCN1hyOYbM2",
    "outputId": "8419e6cf-b4b1-44bc-b319-1cf28dd827c4",
    "ExecuteTime": {
     "end_time": "2024-04-04T08:49:46.139597Z",
     "start_time": "2024-04-04T08:49:45.717879Z"
    }
   },
   "outputs": [
    {
     "data": {
      "text/plain": "<mavi.vanishing_ideal.VanishingIdeal at 0x7f5fb53bde10>"
     },
     "execution_count": 7,
     "metadata": {},
     "output_type": "execute_result"
    }
   ],
   "source": [
    "vi = VanishingIdeal()\n",
    "vi.fit(X, 0.01, method=\"grad\")"
   ]
  },
  {
   "cell_type": "code",
   "execution_count": 8,
   "metadata": {
    "id": "mJoryIFHYg9Y",
    "ExecuteTime": {
     "end_time": "2024-04-04T08:49:46.638984Z",
     "start_time": "2024-04-04T08:49:46.400216Z"
    }
   },
   "outputs": [],
   "source": [
    "import sympy as sp\n",
    "from sympy.abc import x, y\n",
    "X_symb = np.array([[x, y]])\n",
    "\n",
    "G = vi.evaluate(X_symb, target='vanishing')  # (1, 6) array\n",
    "G = np.ravel(G)"
   ]
  },
  {
   "cell_type": "code",
   "execution_count": null,
   "metadata": {
    "colab": {
     "base_uri": "https://localhost:8080/",
     "height": 594
    },
    "id": "sErBrYtYYqsD",
    "outputId": "e5797bc2-870d-4243-c8ec-3e4254a9b727"
   },
   "outputs": [
    {
     "name": "stdout",
     "output_type": "stream",
     "text": [
      "vanishing polynomial #0\n"
     ]
    },
    {
     "data": {
      "text/latex": [
       "$\\displaystyle 0.499999791666797 x^{2} + 1.71163631633551 \\cdot 10^{-16} x y - 1.28197587207433 \\cdot 10^{-16} x + 0.499999791666797 y^{2} + 9.64186283436642 \\cdot 10^{-17} y - 0.499999791666797$"
      ],
      "text/plain": [
       "                   2                                                          \n",
       "0.499999791666797⋅x  + 1.71163631633551e-16⋅x⋅y - 1.28197587207433e-16⋅x + 0.4\n",
       "\n",
       "                2                                             \n",
       "99999791666797⋅y  + 9.64186283436642e-17⋅y - 0.499999791666797"
      ]
     },
     "metadata": {},
     "output_type": "display_data"
    },
    {
     "name": "stdout",
     "output_type": "stream",
     "text": [
      "\n",
      "vanishing polynomial #1\n"
     ]
    },
    {
     "data": {
      "text/latex": [
       "$\\displaystyle 0.707105808916728 x^{3} + 1.00237702098083 \\cdot 10^{-9} x^{2} y - 1.37382977730566 \\cdot 10^{-16} x^{2} + 0.707105808916728 x y^{2} - 1.89120775519351 \\cdot 10^{-15} x y - 0.707105808916728 x + 9.30548125636735 \\cdot 10^{-11} y^{3} + 1.40903326926992 \\cdot 10^{-18} y^{2} - 3.20385513350888 \\cdot 10^{-10} y + 3.99196694855206 \\cdot 10^{-17}$"
      ],
      "text/plain": [
       "                   3                        2                           2     \n",
       "0.707105808916728⋅x  + 1.00237702098083e-9⋅x ⋅y - 1.37382977730566e-16⋅x  + 0.\n",
       "\n",
       "                   2                                                          \n",
       "707105808916728⋅x⋅y  - 1.89120775519351e-15⋅x⋅y - 0.707105808916728⋅x + 9.3054\n",
       "\n",
       "                3                         2                                   \n",
       "8125636735e-11⋅y  + 1.40903326926992e-18⋅y  - 3.20385513350888e-10⋅y + 3.99196\n",
       "\n",
       "             \n",
       "694855206e-17"
      ]
     },
     "metadata": {},
     "output_type": "display_data"
    },
    {
     "name": "stdout",
     "output_type": "stream",
     "text": [
      "\n",
      "vanishing polynomial #2\n"
     ]
    },
    {
     "data": {
      "text/latex": [
       "$\\displaystyle 3.45515030279389 \\cdot 10^{-10} x^{3} - 0.702028918486657 x^{2} y + 1.34083666482843 \\cdot 10^{-16} x^{2} + 3.45515528105397 \\cdot 10^{-10} x y^{2} - 1.19994788828073 \\cdot 10^{-16} x y - 3.45515112251053 \\cdot 10^{-10} x + 0.552780462199815 y^{3} - 1.83607593759714 \\cdot 10^{-16} y^{2} - 0.239078117028197 y - 2.54736589578449 \\cdot 10^{-17}$"
      ],
      "text/plain": [
       "                      3                      2                           2    \n",
       "3.45515030279389e-10⋅x  - 0.702028918486657⋅x ⋅y + 1.34083666482843e-16⋅x  + 3\n",
       "\n",
       "                       2                                                      \n",
       ".45515528105397e-10⋅x⋅y  - 1.19994788828073e-16⋅x⋅y - 3.45515112251053e-10⋅x +\n",
       "\n",
       "                    3                         2                               \n",
       " 0.552780462199815⋅y  - 1.83607593759714e-16⋅y  - 0.239078117028197⋅y - 2.5473\n",
       "\n",
       "              \n",
       "6589578449e-17"
      ]
     },
     "metadata": {},
     "output_type": "display_data"
    },
    {
     "name": "stdout",
     "output_type": "stream",
     "text": [
      "\n",
      "vanishing polynomial #3\n"
     ]
    },
    {
     "data": {
      "text/latex": [
       "$\\displaystyle 4.6456639756421 \\cdot 10^{-10} x^{3} - 1.00357033211466 x^{2} y - 1.44675327578866 \\cdot 10^{-16} x^{2} + 4.64566582239178 \\cdot 10^{-10} x y^{2} + 1.95217166231258 \\cdot 10^{-16} x y - 4.64566398518391 \\cdot 10^{-10} x - 0.552759829242424 y^{3} + 2.97483239454642 \\cdot 10^{-17} y^{2} + 0.665462454960484 y - 2.70353267551992 \\cdot 10^{-17}$"
      ],
      "text/plain": [
       "                     3                     2                           2      \n",
       "4.6456639756421e-10⋅x  - 1.00357033211466⋅x ⋅y - 1.44675327578866e-16⋅x  + 4.6\n",
       "\n",
       "                     2                                                        \n",
       "4566582239178e-10⋅x⋅y  + 1.95217166231258e-16⋅x⋅y - 4.64566398518391e-10⋅x - 0\n",
       "\n",
       "                  3                         2                                 \n",
       ".552759829242424⋅y  + 2.97483239454642e-17⋅y  + 0.665462454960484⋅y - 2.703532\n",
       "\n",
       "            \n",
       "67551992e-17"
      ]
     },
     "metadata": {},
     "output_type": "display_data"
    },
    {
     "name": "stdout",
     "output_type": "stream",
     "text": [
      "\n",
      "vanishing polynomial #4\n"
     ]
    },
    {
     "data": {
      "text/latex": [
       "$\\displaystyle 0.249693080763896 x^{4} + 0.302488620313477 x^{3} y - 1.01799484742274 \\cdot 10^{-16} x^{3} - 0.749079242290544 x^{2} y^{2} - 1.67130549277971 \\cdot 10^{-16} x^{2} y - 0.249693080763896 x^{2} - 0.907465860939045 x y^{3} + 1.32495651356819 \\cdot 10^{-16} x y^{2} + 0.604977240625916 x y + 8.96183333468869 \\cdot 10^{-17} x + 1.11951376133462 \\cdot 10^{-16} y^{4} + 1.00146237456387 \\cdot 10^{-16} y^{3} + 0.24969308076361 y^{2} + 8.51962452929138 \\cdot 10^{-17} y + 6.55216066999204 \\cdot 10^{-17}$"
      ],
      "text/plain": [
       "                   4                      3                           3       \n",
       "0.249693080763896⋅x  + 0.302488620313477⋅x ⋅y - 1.01799484742274e-16⋅x  - 0.74\n",
       "\n",
       "               2  2                         2                        2        \n",
       "9079242290544⋅x ⋅y  - 1.67130549277971e-16⋅x ⋅y - 0.249693080763896⋅x  - 0.907\n",
       "\n",
       "                3                           2                                 \n",
       "465860939045⋅x⋅y  + 1.32495651356819e-16⋅x⋅y  + 0.604977240625916⋅x⋅y + 8.9618\n",
       "\n",
       "                                         4                         3          \n",
       "3333468869e-17⋅x + 1.11951376133462e-16⋅y  + 1.00146237456387e-16⋅y  + 0.24969\n",
       "\n",
       "           2                                                \n",
       "308076361⋅y  + 8.51962452929138e-17⋅y + 6.55216066999204e-17"
      ]
     },
     "metadata": {},
     "output_type": "display_data"
    },
    {
     "name": "stdout",
     "output_type": "stream",
     "text": [
      "\n",
      "vanishing polynomial #5\n"
     ]
    },
    {
     "data": {
      "text/latex": [
       "$\\displaystyle - 0.302488620313371 x^{4} + 0.249693080763985 x^{3} y - 6.99151668383113 \\cdot 10^{-17} x^{3} + 0.907465860938725 x^{2} y^{2} + 1.16962227705768 \\cdot 10^{-16} x^{2} y + 0.302488620313371 x^{2} - 0.749079242290808 x y^{3} + 1.10383698968974 \\cdot 10^{-16} x y^{2} + 0.49938616152711 x y - 6.67085293804508 \\cdot 10^{-17} x + 9.24116879952794 \\cdot 10^{-17} y^{4} + 8.2666986055517 \\cdot 10^{-17} y^{3} - 0.302488620313025 y^{2} + 1.02651955665258 \\cdot 10^{-16} y + 2.58526078855806 \\cdot 10^{-17}$"
      ],
      "text/plain": [
       "                     4                      3                           3     \n",
       "- 0.302488620313371⋅x  + 0.249693080763985⋅x ⋅y - 6.99151668383113e-17⋅x  + 0.\n",
       "\n",
       "                 2  2                         2                        2      \n",
       "907465860938725⋅x ⋅y  + 1.16962227705768e-16⋅x ⋅y + 0.302488620313371⋅x  - 0.7\n",
       "\n",
       "                  3                           2                               \n",
       "49079242290808⋅x⋅y  + 1.10383698968974e-16⋅x⋅y  + 0.49938616152711⋅x⋅y - 6.670\n",
       "\n",
       "                                          4                        3          \n",
       "85293804508e-17⋅x + 9.24116879952794e-17⋅y  + 8.2666986055517e-17⋅y  - 0.30248\n",
       "\n",
       "            2                                                \n",
       "8620313025⋅y  + 1.02651955665258e-16⋅y + 2.58526078855806e-17"
      ]
     },
     "metadata": {},
     "output_type": "display_data"
    },
    {
     "name": "stdout",
     "output_type": "stream",
     "text": []
    }
   ],
   "source": [
    "from IPython.display import display\n",
    "for i, g in enumerate(G):\n",
    "    print(f'vanishing polynomial #{i}')\n",
    "    g = sp.expand(g)\n",
    "    display(g)\n",
    "    print('')"
   ]
  }
 ],
 "metadata": {
  "colab": {
   "provenance": []
  },
  "kernelspec": {
   "display_name": "Python 3 (ipykernel)",
   "language": "python",
   "name": "python3"
  },
  "language_info": {
   "codemirror_mode": {
    "name": "ipython",
    "version": 3
   },
   "file_extension": ".py",
   "mimetype": "text/x-python",
   "name": "python",
   "nbconvert_exporter": "python",
   "pygments_lexer": "ipython3",
   "version": "3.11.2"
  }
 },
 "nbformat": 4,
 "nbformat_minor": 4
}
