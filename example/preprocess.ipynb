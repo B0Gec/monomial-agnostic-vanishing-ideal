{
 "cells": [
  {
   "cell_type": "code",
   "execution_count": 27,
   "id": "f6e4cd8d-b4ec-43f5-98d5-265ab4e8dcc5",
   "metadata": {},
   "outputs": [
    {
     "name": "stdout",
     "output_type": "stream",
     "text": [
      "The autoreload extension is already loaded. To reload it, use:\n",
      "  %reload_ext autoreload\n"
     ]
    }
   ],
   "source": [
    "%load_ext autoreload\n",
    "%autoreload 2\n",
    "\n",
    "import sys\n",
    "sys.path.append('..')\n",
    "\n",
    "import torch\n",
    "import numpy as np\n",
    "import matplotlib.pyplot as plt\n",
    "\n",
    "from mavi.vanishing_ideal import VanishingIdeal\n",
    "from mavi.util.preprocessing import Preprocessor"
   ]
  },
  {
   "cell_type": "code",
   "execution_count": 28,
   "id": "8327c343-d32c-4fac-b916-eb184fe8486a",
   "metadata": {},
   "outputs": [
    {
     "data": {
      "text/plain": [
       "[<matplotlib.lines.Line2D at 0x15fa85370>]"
      ]
     },
     "execution_count": 28,
     "metadata": {},
     "output_type": "execute_result"
    },
    {
     "data": {
      "image/png": "[encoded data removed]",
      "text/plain": [
       "<Figure size 432x288 with 1 Axes>"
      ]
     },
     "metadata": {
      "needs_background": "light"
     },
     "output_type": "display_data"
    }
   ],
   "source": [
    "theta = [np.pi*i/3 for i in range(6)]\n",
    "X = np.vstack((np.cos(theta), np.sin(theta))).T\n",
    "\n",
    "plt.plot(X[:,0], X[:,1], \"o\")"
   ]
  },
  {
   "cell_type": "code",
   "execution_count": 29,
   "id": "874a7d6d-91f1-4187-90f9-d9623025b551",
   "metadata": {},
   "outputs": [
    {
     "name": "stdout",
     "output_type": "stream",
     "text": [
      "(6000, 2) (6000, 40)\n"
     ]
    }
   ],
   "source": [
    "X = np.repeat(X, 1000, axis=0)\n",
    "Z = np.repeat(X, 20, axis=1)\n",
    "print(X.shape, Z.shape)"
   ]
  },
  {
   "cell_type": "code",
   "execution_count": 30,
   "id": "35c6f424-4091-4c39-8a8c-cdc8ed207877",
   "metadata": {},
   "outputs": [
    {
     "name": "stdout",
     "output_type": "stream",
     "text": [
      "(6000, 2)\n",
      "CPU times: user 6.53 s, sys: 359 ms, total: 6.89 s\n",
      "Wall time: 1.71 s\n"
     ]
    }
   ],
   "source": [
    "%%time\n",
    "'''\n",
    "Preprocessing remove redundant variables \n",
    "'''\n",
    "pre = Preprocessor()\n",
    "Z_ = pre.fit_transform(Z, th=.95, keep_dim=False)  # PCA-like preprocessing, 95% of power is kept.\n",
    "print(Z_.shape)"
   ]
  },
  {
   "cell_type": "markdown",
   "id": "1a88d85c-5134-46de-a3b1-ad3a32dd02d7",
   "metadata": {},
   "source": [
    "### Comparison in VCA"
   ]
  },
  {
   "cell_type": "code",
   "execution_count": 31,
   "id": "83743012-93e8-430f-ab21-03f0fffa8b1a",
   "metadata": {},
   "outputs": [
    {
     "name": "stdout",
     "output_type": "stream",
     "text": [
      "CPU times: user 7.09 s, sys: 1.3 s, total: 8.39 s\n",
      "Wall time: 1.57 s\n"
     ]
    },
    {
     "data": {
      "text/plain": [
       "<mavi.vanishing_ideal.VanishingIdeal at 0x15fa5b670>"
      ]
     },
     "execution_count": 31,
     "metadata": {},
     "output_type": "execute_result"
    }
   ],
   "source": [
    "%%time\n",
    "'''\n",
    "Computation for 2-dim dataset X\n",
    "'''\n",
    "vi = VanishingIdeal()\n",
    "vi.fit(X, 0.01, method=\"vca\", backend='numpy')  "
   ]
  },
  {
   "cell_type": "code",
   "execution_count": 32,
   "id": "c46e5425-4fef-4a8b-a9e8-4dcdc0d7e79f",
   "metadata": {},
   "outputs": [
    {
     "name": "stdout",
     "output_type": "stream",
     "text": [
      "CPU times: user 12.3 s, sys: 1.48 s, total: 13.8 s\n",
      "Wall time: 2.44 s\n"
     ]
    },
    {
     "data": {
      "text/plain": [
       "<mavi.vanishing_ideal.VanishingIdeal at 0x15fa5b460>"
      ]
     },
     "execution_count": 32,
     "metadata": {},
     "output_type": "execute_result"
    }
   ],
   "source": [
    "%%time\n",
    "'''\n",
    "Computation for 40-dim dataset Z\n",
    "'''\n",
    "vi = VanishingIdeal()\n",
    "vi.fit(Z, 0.01, method=\"vca\", backend='numpy')  "
   ]
  },
  {
   "cell_type": "code",
   "execution_count": 33,
   "id": "d5ec1925-41c3-4fd2-afba-4856099f9ed4",
   "metadata": {},
   "outputs": [
    {
     "name": "stdout",
     "output_type": "stream",
     "text": [
      "CPU times: user 7.24 s, sys: 1.03 s, total: 8.27 s\n",
      "Wall time: 1.66 s\n"
     ]
    },
    {
     "data": {
      "text/plain": [
       "<mavi.vanishing_ideal.VanishingIdeal at 0x15fac28e0>"
      ]
     },
     "execution_count": 33,
     "metadata": {},
     "output_type": "execute_result"
    }
   ],
   "source": [
    "%%time\n",
    "'''\n",
    "Computation for preprocessed 2-dim dataset Z_\n",
    "'''\n",
    "vi = VanishingIdeal()\n",
    "vi.fit(Z_, 0.01, method=\"vca\", backend='numpy')  "
   ]
  },
  {
   "cell_type": "markdown",
   "id": "9dbbaff8-ed50-4b05-b64b-dcd3a1df336b",
   "metadata": {},
   "source": [
    "### Comparison in Grad"
   ]
  },
  {
   "cell_type": "code",
   "execution_count": 34,
   "id": "474f0f22-192d-4526-bf5b-58d4b1c2888e",
   "metadata": {},
   "outputs": [
    {
     "name": "stdout",
     "output_type": "stream",
     "text": [
      "CPU times: user 66.2 ms, sys: 3.63 ms, total: 69.8 ms\n",
      "Wall time: 22.8 ms\n"
     ]
    },
    {
     "data": {
      "text/plain": [
       "<mavi.vanishing_ideal.VanishingIdeal at 0x15fac99a0>"
      ]
     },
     "execution_count": 34,
     "metadata": {},
     "output_type": "execute_result"
    }
   ],
   "source": [
    "%%time\n",
    "'''\n",
    "Computation for 2-dim dataset X\n",
    "'''\n",
    "vi = VanishingIdeal()\n",
    "vi.fit(X, 0.01, method=\"grad\", backend='numpy')  "
   ]
  },
  {
   "cell_type": "code",
   "execution_count": 35,
   "id": "cc6deb72-d7d8-435f-b837-aa3cbeb27c15",
   "metadata": {},
   "outputs": [
    {
     "name": "stdout",
     "output_type": "stream",
     "text": [
      "CPU times: user 2.61 s, sys: 629 ms, total: 3.23 s\n",
      "Wall time: 575 ms\n"
     ]
    },
    {
     "data": {
      "text/plain": [
       "<mavi.vanishing_ideal.VanishingIdeal at 0x15fac98b0>"
      ]
     },
     "execution_count": 35,
     "metadata": {},
     "output_type": "execute_result"
    }
   ],
   "source": [
    "%%time\n",
    "'''\n",
    "Computation for 40-dim dataset Z\n",
    "'''\n",
    "vi = VanishingIdeal()\n",
    "vi.fit(Z, 0.01, method=\"grad\", backend='numpy')  "
   ]
  },
  {
   "cell_type": "code",
   "execution_count": 36,
   "id": "6595cff1-62bc-4115-b7e6-0168ddfc3c3d",
   "metadata": {},
   "outputs": [
    {
     "name": "stdout",
     "output_type": "stream",
     "text": [
      "CPU times: user 58.7 ms, sys: 46.2 ms, total: 105 ms\n",
      "Wall time: 13.6 ms\n"
     ]
    },
    {
     "data": {
      "text/plain": [
       "<mavi.vanishing_ideal.VanishingIdeal at 0x15fac9ac0>"
      ]
     },
     "execution_count": 36,
     "metadata": {},
     "output_type": "execute_result"
    }
   ],
   "source": [
    "%%time\n",
    "'''\n",
    "Computation for preprocessed 2-dim dataset Z_\n",
    "'''\n",
    "vi = VanishingIdeal()\n",
    "vi.fit(Z_, 0.01, method=\"grad\", backend='numpy')  "
   ]
  },
  {
   "cell_type": "markdown",
   "id": "0fdcbfed-965b-44fd-b190-b076dd145cad",
   "metadata": {},
   "source": [
    "### Plot"
   ]
  },
  {
   "cell_type": "code",
   "execution_count": 45,
   "id": "929971ef-dc4a-428f-8f68-d4ad85a3e280",
   "metadata": {},
   "outputs": [
    {
     "name": "stdout",
     "output_type": "stream",
     "text": [
      "CPU times: user 1.89 s, sys: 255 ms, total: 2.15 s\n",
      "Wall time: 1.19 s\n"
     ]
    },
    {
     "data": {
      "image/png": "[encoded data removed]",
      "text/plain": [
       "<Figure size 432x288 with 1 Axes>"
      ]
     },
     "metadata": {
      "needs_background": "light"
     },
     "output_type": "display_data"
    }
   ],
   "source": [
    "%%time\n",
    "'''\n",
    "Don't forget to apply ```pre.transform```\n",
    "'''\n",
    "vi = VanishingIdeal()\n",
    "vi.fit(Z_, 0.01, method=\"grad\", backend='numpy')  \n",
    "vi.plot(pre.transform(Z))"
   ]
  }
 ],
 "metadata": {
  "kernelspec": {
   "display_name": "Python 3 (ipykernel)",
   "language": "python",
   "name": "python3"
  },
  "language_info": {
   "codemirror_mode": {
    "name": "ipython",
    "version": 3
   },
   "file_extension": ".py",
   "mimetype": "text/x-python",
   "name": "python",
   "nbconvert_exporter": "python",
   "pygments_lexer": "ipython3",
   "version": "3.9.6"
  }
 },
 "nbformat": 4,
 "nbformat_minor": 5
}
